{
 "cells": [
  {
   "cell_type": "code",
   "execution_count": 3,
   "id": "d122d2fa-551b-4c7e-a648-222f57c4feb7",
   "metadata": {},
   "outputs": [],
   "source": [
    "message=(\"hello every one\")"
   ]
  },
  {
   "cell_type": "code",
   "execution_count": null,
   "id": "649695fe-0f75-488a-8634-072995af593f",
   "metadata": {},
   "outputs": [],
   "source": []
  }
 ],
 "metadata": {
  "kernelspec": {
   "display_name": "Python 3 (ipykernel)",
   "language": "python",
   "name": "python3"
  },
  "language_info": {
   "codemirror_mode": {
    "name": "ipython",
    "version": 3
   },
   "file_extension": ".py",
   "mimetype": "text/x-python",
   "name": "python",
   "nbconvert_exporter": "python",
   "pygments_lexer": "ipython3",
   "version": "3.12.4"
  }
 },
 "nbformat": 4,
 "nbformat_minor": 5
}
